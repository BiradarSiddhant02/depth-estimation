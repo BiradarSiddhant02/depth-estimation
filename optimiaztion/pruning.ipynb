{
 "cells": [
  {
   "cell_type": "code",
   "execution_count": 40,
   "metadata": {},
   "outputs": [],
   "source": [
    "import torch\n",
    "from torch import nn\n",
    "import torch.nn.utils.prune as prune\n",
    "import torch.nn.functional as F\n",
    "from model import Model\n",
    "from tqdm import tqdm\n",
    "import cv2\n",
    "import os\n",
    "from time import time"
   ]
  },
  {
   "cell_type": "code",
   "execution_count": 41,
   "metadata": {},
   "outputs": [],
   "source": [
    "MODEL_PATH = \"../models/gen-4\"\n",
    "DEVICE = \"cuda\" if torch.cuda.is_available() else \"cpu\"\n",
    "DATA_PATH = \"../inputs/nyu_data/data/nyu2_test\""
   ]
  },
  {
   "cell_type": "code",
   "execution_count": 42,
   "metadata": {},
   "outputs": [
    {
     "data": {
      "text/plain": [
       "<All keys matched successfully>"
      ]
     },
     "execution_count": 42,
     "metadata": {},
     "output_type": "execute_result"
    }
   ],
   "source": [
    "depth_model = Model().to(DEVICE)\n",
    "depth_model.load_state_dict(torch.load(\"../models/gen-4/3.pth\", weights_only=True))"
   ]
  },
  {
   "cell_type": "code",
   "execution_count": 43,
   "metadata": {},
   "outputs": [
    {
     "name": "stdout",
     "output_type": "stream",
     "text": [
      "['T_destination', '__annotations__', '__call__', '__class__', '__delattr__', '__dict__', '__dir__', '__doc__', '__eq__', '__format__', '__ge__', '__getattr__', '__getattribute__', '__getstate__', '__gt__', '__hash__', '__init__', '__init_subclass__', '__le__', '__lt__', '__module__', '__ne__', '__new__', '__reduce__', '__reduce_ex__', '__repr__', '__setattr__', '__setstate__', '__sizeof__', '__str__', '__subclasshook__', '__weakref__', '_apply', '_backward_hooks', '_backward_pre_hooks', '_buffers', '_call_impl', '_compiled_call_impl', '_forward_hooks', '_forward_hooks_always_called', '_forward_hooks_with_kwargs', '_forward_pre_hooks', '_forward_pre_hooks_with_kwargs', '_get_backward_hooks', '_get_backward_pre_hooks', '_get_name', '_is_full_backward_hook', '_load_from_state_dict', '_load_state_dict_post_hooks', '_load_state_dict_pre_hooks', '_maybe_warn_non_full_backward_hook', '_modules', '_named_members', '_non_persistent_buffers_set', '_parameters', '_register_load_state_dict_pre_hook', '_register_state_dict_hook', '_replicate_for_data_parallel', '_save_to_state_dict', '_slow_forward', '_state_dict_hooks', '_state_dict_pre_hooks', '_version', '_wrapped_call_impl', 'add_module', 'apply', 'bfloat16', 'buffers', 'call_super_init', 'children', 'compile', 'cpu', 'cuda', 'decoder', 'double', 'dump_patches', 'encoder', 'eval', 'extra_repr', 'float', 'forward', 'get_buffer', 'get_extra_state', 'get_parameter', 'get_submodule', 'half', 'ipu', 'load_state_dict', 'modules', 'named_buffers', 'named_children', 'named_modules', 'named_parameters', 'parameters', 'register_backward_hook', 'register_buffer', 'register_forward_hook', 'register_forward_pre_hook', 'register_full_backward_hook', 'register_full_backward_pre_hook', 'register_load_state_dict_post_hook', 'register_module', 'register_parameter', 'register_state_dict_pre_hook', 'requires_grad_', 'set_extra_state', 'share_memory', 'state_dict', 'to', 'to_empty', 'train', 'training', 'type', 'xpu', 'zero_grad']\n"
     ]
    }
   ],
   "source": [
    "# print(list(depth_model.named_parameters()))\n",
    "# print(list(depth_model.named_buffers()))\n",
    "print(dir(depth_model))"
   ]
  },
  {
   "cell_type": "code",
   "execution_count": 44,
   "metadata": {},
   "outputs": [],
   "source": [
    "for name, module in depth_model.named_modules():\n",
    "    if isinstance(module, nn.Conv2d):\n",
    "        prune.l1_unstructured(module, name=\"weight\", amount=0.2)\n",
    "        prune.remove(module, \"weight\")"
   ]
  },
  {
   "cell_type": "code",
   "execution_count": 45,
   "metadata": {},
   "outputs": [
    {
     "name": "stderr",
     "output_type": "stream",
     "text": [
      "Processing images: 100%|██████████| 1308/1308 [00:08<00:00, 149.55it/s]\n"
     ]
    }
   ],
   "source": [
    "image_data = {}\n",
    "\n",
    "\"\"\"\n",
    "STORAGE FORMAT:\n",
    "{\n",
    "    key1 : [image1, depth1],\n",
    "    key2 : [image2, depth2]\n",
    "}\n",
    "\"\"\"\n",
    "\n",
    "# Read images from the given path\n",
    "image_files = os.listdir(DATA_PATH)\n",
    "\n",
    "# Classify and store images based on their endings\n",
    "for image_file in tqdm(image_files, desc=\"Processing images\"):\n",
    "    image_name, ext = os.path.splitext(image_file)\n",
    "    key = image_name.split(\"_\")[0]  # Extract the part before '_'\n",
    "\n",
    "    image_path = os.path.join(DATA_PATH, image_file)\n",
    "\n",
    "    if image_file.endswith(\"_depth.png\"):\n",
    "        if key in image_data:\n",
    "            image_data[key] = (image_data[key][0], cv2.imread(image_path))\n",
    "        else:\n",
    "            image_data[key] = (None, cv2.imread(image_path))\n",
    "\n",
    "    elif image_file.endswith(\"_colors.png\"):\n",
    "        if key in image_data:\n",
    "            image = cv2.imread(image_path)\n",
    "            image = cv2.cvtColor(image, cv2.COLOR_BGR2RGB)\n",
    "            image_data[key] = (image, image_data[key][1])\n",
    "        else:\n",
    "            image_data[key] = (cv2.imread(image_path), None)"
   ]
  },
  {
   "cell_type": "code",
   "execution_count": 46,
   "metadata": {},
   "outputs": [
    {
     "name": "stderr",
     "output_type": "stream",
     "text": [
      "Evaluating (Inference Time: 0.1088 s/image):   5%|▌         | 33/654 [00:03<01:12,  8.61it/s]\n"
     ]
    },
    {
     "ename": "KeyboardInterrupt",
     "evalue": "",
     "output_type": "error",
     "traceback": [
      "\u001b[0;31m---------------------------------------------------------------------------\u001b[0m",
      "\u001b[0;31mKeyboardInterrupt\u001b[0m                         Traceback (most recent call last)",
      "Cell \u001b[0;32mIn[46], line 17\u001b[0m\n\u001b[1;32m     15\u001b[0m \u001b[38;5;28;01mwith\u001b[39;00m torch\u001b[38;5;241m.\u001b[39mno_grad():\n\u001b[1;32m     16\u001b[0m     start \u001b[38;5;241m=\u001b[39m time()\n\u001b[0;32m---> 17\u001b[0m     predicted \u001b[38;5;241m=\u001b[39m \u001b[43mdepth_model\u001b[49m\u001b[43m(\u001b[49m\u001b[43mimage_tensor\u001b[49m\u001b[43m)\u001b[49m\u001b[38;5;241;43m.\u001b[39;49m\u001b[43mcpu\u001b[49m\u001b[43m(\u001b[49m\u001b[43m)\u001b[49m\u001b[38;5;241m.\u001b[39msqueeze()\u001b[38;5;241m.\u001b[39mnumpy()\n\u001b[1;32m     18\u001b[0m     end \u001b[38;5;241m=\u001b[39m time()\n\u001b[1;32m     20\u001b[0m inference_time \u001b[38;5;241m=\u001b[39m end \u001b[38;5;241m-\u001b[39m start\n",
      "\u001b[0;31mKeyboardInterrupt\u001b[0m: "
     ]
    }
   ],
   "source": [
    "outputs = []\n",
    "\n",
    "progress_bar = tqdm(image_data.items(), desc=\"Evaluating\", total=len(image_data))\n",
    "\n",
    "for key, (color_img, ground_truth) in progress_bar:\n",
    "\n",
    "    image_tensor = (\n",
    "        torch.from_numpy(cv2.resize(color_img, (640, 480)))\n",
    "        .float()\n",
    "        .permute(2, 0, 1)\n",
    "        .unsqueeze(0)\n",
    "        .to(DEVICE)\n",
    "    )\n",
    "\n",
    "    with torch.no_grad():\n",
    "        start = time()\n",
    "        predicted = depth_model(image_tensor).cpu().squeeze().numpy()\n",
    "        end = time()\n",
    "\n",
    "    inference_time = end - start\n",
    "\n",
    "    progress_bar.set_description(\n",
    "        f\"Evaluating (Inference Time: {inference_time:.4f} s/image)\"\n",
    "    )\n",
    "\n",
    "    outputs.append((color_img, ground_truth, 1 - predicted))"
   ]
  }
 ],
 "metadata": {
  "kernelspec": {
   "display_name": "capstone",
   "language": "python",
   "name": "python3"
  },
  "language_info": {
   "codemirror_mode": {
    "name": "ipython",
    "version": 3
   },
   "file_extension": ".py",
   "mimetype": "text/x-python",
   "name": "python",
   "nbconvert_exporter": "python",
   "pygments_lexer": "ipython3",
   "version": "3.10.14"
  }
 },
 "nbformat": 4,
 "nbformat_minor": 2
}
